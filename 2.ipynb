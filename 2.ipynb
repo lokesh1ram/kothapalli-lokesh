{
 "cells": [
  {
   "cell_type": "code",
   "execution_count": 1,
   "id": "c539729a-1bad-4d5c-91d1-cdb04ed40e7b",
   "metadata": {},
   "outputs": [
    {
     "data": {
      "text/plain": [
       "(43, 434332, 42342, 2432432, 5, 3453, 6)"
      ]
     },
     "execution_count": 1,
     "metadata": {},
     "output_type": "execute_result"
    }
   ],
   "source": [
    "h=(43,434332,42342,2432432,5,3453,6)\n",
    "h"
   ]
  },
  {
   "cell_type": "code",
   "execution_count": 2,
   "id": "4399c69f-6364-4fc6-9e07-08dff7e72d9e",
   "metadata": {},
   "outputs": [
    {
     "data": {
      "text/plain": [
       "1"
      ]
     },
     "execution_count": 2,
     "metadata": {},
     "output_type": "execute_result"
    }
   ],
   "source": [
    "h.count(42342)"
   ]
  },
  {
   "cell_type": "code",
   "execution_count": 3,
   "id": "479840d7-d322-42cd-bceb-9ebc56406046",
   "metadata": {},
   "outputs": [
    {
     "data": {
      "text/plain": [
       "6"
      ]
     },
     "execution_count": 3,
     "metadata": {},
     "output_type": "execute_result"
    }
   ],
   "source": [
    "h.index(6)"
   ]
  },
  {
   "cell_type": "code",
   "execution_count": 4,
   "id": "6240b5e6-2494-4353-8abe-ac1dba9d3c54",
   "metadata": {},
   "outputs": [
    {
     "data": {
      "text/plain": [
       "{32, 434, 5364, 7567, 85876, 86586}"
      ]
     },
     "execution_count": 4,
     "metadata": {},
     "output_type": "execute_result"
    }
   ],
   "source": [
    "s={ 32,434,5364,7567,86586,85876}\n",
    "s"
   ]
  },
  {
   "cell_type": "code",
   "execution_count": 7,
   "id": "ee41d562-0b57-4512-919c-e5aa66144605",
   "metadata": {},
   "outputs": [
    {
     "data": {
      "text/plain": [
       "{3, 4, 10, 19, 123, 322, 3242, 53453}"
      ]
     },
     "execution_count": 7,
     "metadata": {},
     "output_type": "execute_result"
    }
   ],
   "source": [
    "s={4,10,19,123,322,53453,3,3242}\n",
    "s"
   ]
  },
  {
   "cell_type": "code",
   "execution_count": 8,
   "id": "16030f5c-89df-4abd-aa6b-4e70f03e4869",
   "metadata": {},
   "outputs": [
    {
     "data": {
      "text/plain": [
       "set"
      ]
     },
     "execution_count": 8,
     "metadata": {},
     "output_type": "execute_result"
    }
   ],
   "source": [
    "type(s)"
   ]
  },
  {
   "cell_type": "code",
   "execution_count": 11,
   "id": "8502f2aa-1e76-4fce-94d9-59adff6e1ebd",
   "metadata": {},
   "outputs": [
    {
     "data": {
      "text/plain": [
       "{3, 4, 10, 19, 123, 322, 324, 3242, 53453}"
      ]
     },
     "execution_count": 11,
     "metadata": {},
     "output_type": "execute_result"
    }
   ],
   "source": [
    "s.add(324)\n",
    "s"
   ]
  },
  {
   "cell_type": "code",
   "execution_count": 18,
   "id": "b31c891c-b22d-4e87-b21b-9d01476fa055",
   "metadata": {},
   "outputs": [
    {
     "data": {
      "text/plain": [
       "{4, 10, 19, 123, 322, 324, 3242, 53453}"
      ]
     },
     "execution_count": 18,
     "metadata": {},
     "output_type": "execute_result"
    }
   ],
   "source": [
    "s.remove(3)\n",
    "s"
   ]
  },
  {
   "cell_type": "markdown",
   "id": "bb64cec3-4505-4893-8754-578dfe9b2ad4",
   "metadata": {},
   "source": [
    "##### "
   ]
  },
  {
   "cell_type": "code",
   "execution_count": 19,
   "id": "234d8250-e05d-4c88-9929-ffe9c73496ee",
   "metadata": {},
   "outputs": [
    {
     "data": {
      "text/plain": [
       "{23, 424, 432, 435, 567, 575, 657}"
      ]
     },
     "execution_count": 19,
     "metadata": {},
     "output_type": "execute_result"
    }
   ],
   "source": [
    "y={23,432,424,435,657,575,567}\n",
    "y\n"
   ]
  },
  {
   "cell_type": "code",
   "execution_count": 23,
   "id": "42656a10-cfd9-4672-a9d8-977f00bdefe8",
   "metadata": {},
   "outputs": [
    {
     "data": {
      "text/plain": [
       "{4, 10, 19, 123, 322, 324, 3242, 53453}"
      ]
     },
     "execution_count": 23,
     "metadata": {},
     "output_type": "execute_result"
    }
   ],
   "source": [
    "s.intersection(s)"
   ]
  },
  {
   "cell_type": "code",
   "execution_count": 24,
   "id": "11345916-39f2-4652-a800-0b4085785836",
   "metadata": {},
   "outputs": [
    {
     "data": {
      "text/plain": [
       "{23, 424, 432, 435, 567, 575, 657}"
      ]
     },
     "execution_count": 24,
     "metadata": {},
     "output_type": "execute_result"
    }
   ],
   "source": [
    "y.intersection(y)\n"
   ]
  },
  {
   "cell_type": "code",
   "execution_count": 25,
   "id": "a5574fb8-79ea-40ff-b332-78c347b58ccb",
   "metadata": {},
   "outputs": [
    {
     "data": {
      "text/plain": [
       "{4, 10, 19, 23, 123, 322, 324, 424, 432, 435, 567, 575, 657, 3242, 53453}"
      ]
     },
     "execution_count": 25,
     "metadata": {},
     "output_type": "execute_result"
    }
   ],
   "source": [
    "s.union(y)"
   ]
  },
  {
   "cell_type": "code",
   "execution_count": 30,
   "id": "c1211715-b070-4e0e-ad4a-d38172cff595",
   "metadata": {},
   "outputs": [
    {
     "data": {
      "text/plain": [
       "{10, 20, 30, 40, 50, 60, 70, 80, 90}"
      ]
     },
     "execution_count": 30,
     "metadata": {},
     "output_type": "execute_result"
    }
   ],
   "source": [
    "s={10,20,30,40,50,60,70,80,90}\n",
    "s"
   ]
  },
  {
   "cell_type": "code",
   "execution_count": 29,
   "id": "e42f9b96-6ee7-4355-b3b2-c8fdce223f94",
   "metadata": {},
   "outputs": [
    {
     "data": {
      "text/plain": [
       "{10, 20, 30, 40, 70, 90}"
      ]
     },
     "execution_count": 29,
     "metadata": {},
     "output_type": "execute_result"
    }
   ],
   "source": [
    "y={40,30,20,10,90,70}\n",
    "y"
   ]
  },
  {
   "cell_type": "code",
   "execution_count": 31,
   "id": "6bd8d849-2aa1-4ec0-b183-bcfc0afd4a40",
   "metadata": {},
   "outputs": [
    {
     "data": {
      "text/plain": [
       "{10, 20, 30, 40, 70, 90}"
      ]
     },
     "execution_count": 31,
     "metadata": {},
     "output_type": "execute_result"
    }
   ],
   "source": [
    "s.intersection(y)"
   ]
  },
  {
   "cell_type": "code",
   "execution_count": 32,
   "id": "8e031164-689c-4578-99c9-98203a374cfb",
   "metadata": {},
   "outputs": [
    {
     "data": {
      "text/plain": [
       "{10, 20, 30, 40, 70, 90}"
      ]
     },
     "execution_count": 32,
     "metadata": {},
     "output_type": "execute_result"
    }
   ],
   "source": [
    "y.intersection(s)"
   ]
  },
  {
   "cell_type": "code",
   "execution_count": 33,
   "id": "34f001aa-cb07-47b3-a751-d39d0b0588f2",
   "metadata": {},
   "outputs": [
    {
     "data": {
      "text/plain": [
       "{50, 60, 80}"
      ]
     },
     "execution_count": 33,
     "metadata": {},
     "output_type": "execute_result"
    }
   ],
   "source": [
    "s.difference(y)"
   ]
  },
  {
   "cell_type": "code",
   "execution_count": 34,
   "id": "b22b7ecf-9cb0-458c-9f85-81a947dfb305",
   "metadata": {},
   "outputs": [
    {
     "data": {
      "text/plain": [
       "{10, 20, 30, 40, 50, 60, 70, 80, 90}"
      ]
     },
     "execution_count": 34,
     "metadata": {},
     "output_type": "execute_result"
    }
   ],
   "source": [
    "s.union(y)"
   ]
  },
  {
   "cell_type": "code",
   "execution_count": null,
   "id": "7835ef7a-e994-4e11-addb-18bb6141d097",
   "metadata": {},
   "outputs": [],
   "source": []
  },
  {
   "cell_type": "code",
   "execution_count": null,
   "id": "640b5010-13f6-438b-88d2-ab2196e8d596",
   "metadata": {},
   "outputs": [],
   "source": []
  }
 ],
 "metadata": {
  "kernelspec": {
   "display_name": "Python 3 (ipykernel)",
   "language": "python",
   "name": "python3"
  },
  "language_info": {
   "codemirror_mode": {
    "name": "ipython",
    "version": 3
   },
   "file_extension": ".py",
   "mimetype": "text/x-python",
   "name": "python",
   "nbconvert_exporter": "python",
   "pygments_lexer": "ipython3",
   "version": "3.12.7"
  }
 },
 "nbformat": 4,
 "nbformat_minor": 5
}
