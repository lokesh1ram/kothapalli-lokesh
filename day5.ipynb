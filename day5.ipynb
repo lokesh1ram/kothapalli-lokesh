{
 "cells": [
  {
   "cell_type": "code",
   "execution_count": 1,
   "metadata": {},
   "outputs": [
    {
     "name": "stdout",
     "output_type": "stream",
     "text": [
      "5\n",
      "1\n",
      "2\n",
      "3\n",
      "4\n",
      "5\n",
      "15\n"
     ]
    }
   ],
   "source": [
    "\"\"\"\"1)Write a Python program that performs the following tasks:\n",
    "1. Ask the user to enter a positive integer `n`.\n",
    "2. Use a `for` loop to print all numbers from `1` to `n` on separate lines.\n",
    "3. Use a `while` loop to calculate the sum of all numbers from `1` to `n` and print the result\"\"\"\"\n",
    "\n",
    "n = int(input())\n",
    "\n",
    "for i in range(1, n + 1):\n",
    "    print(i)\n",
    "\n",
    "sum_numbers = 0\n",
    "i = 1\n",
    "while i <= n:\n",
    "    sum_numbers += i\n",
    "    i += 1\n",
    "\n",
    "print(sum_numbers)\n"
   ]
  },
  {
   "cell_type": "code",
   "execution_count": 4,
   "metadata": {},
   "outputs": [
    {
     "name": "stdout",
     "output_type": "stream",
     "text": [
      "55\n",
      "3025\n"
     ]
    }
   ],
   "source": [
    "\"\"\"\"\"1)Write a Python program that performs the following tasks:\n",
    "1. Ask the user to enter a positive integer `n`.\n",
    "2. Use a `for` loop to print all numbers from `1` to `n` on separate lines.\n",
    "3. Use a `while` loop to calculate the sum of all numbers from `1` to `n` and print the result.\"\"\"\"\"\n",
    "\n",
    "def calculate_square(n):\n",
    "    return n * n\n",
    "\n",
    "n = int(input())\n",
    "result = calculate_square(n)\n",
    "print(result)\n"
   ]
  },
  {
   "cell_type": "code",
   "execution_count": null,
   "metadata": {},
   "outputs": [],
   "source": []
  }
 ],
 "metadata": {
  "kernelspec": {
   "display_name": "Python 3",
   "language": "python",
   "name": "python3"
  },
  "language_info": {
   "codemirror_mode": {
    "name": "ipython",
    "version": 3
   },
   "file_extension": ".py",
   "mimetype": "text/x-python",
   "name": "python",
   "nbconvert_exporter": "python",
   "pygments_lexer": "ipython3",
   "version": "3.8.5"
  }
 },
 "nbformat": 4,
 "nbformat_minor": 4
}
