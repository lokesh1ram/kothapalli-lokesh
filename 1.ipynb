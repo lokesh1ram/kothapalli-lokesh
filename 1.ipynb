{
 "cells": [
  {
   "cell_type": "code",
   "execution_count": 5,
   "id": "bf4b656c-bd38-4120-953f-f13593660ed4",
   "metadata": {},
   "outputs": [
    {
     "ename": "SyntaxError",
     "evalue": "invalid syntax (2415459481.py, line 1)",
     "output_type": "error",
     "traceback": [
      "\u001b[1;36m  Cell \u001b[1;32mIn[5], line 1\u001b[1;36m\u001b[0m\n\u001b[1;33m    list tuple\u001b[0m\n\u001b[1;37m         ^\u001b[0m\n\u001b[1;31mSyntaxError\u001b[0m\u001b[1;31m:\u001b[0m invalid syntax\n"
     ]
    }
   ],
   "source": [
    "list tuple\n"
   ]
  },
  {
   "cell_type": "code",
   "execution_count": 6,
   "id": "aa8c509d-bb8c-46ff-a010-928ea5335478",
   "metadata": {},
   "outputs": [],
   "source": [
    "a=[34,433,34,34,4,34,34,3,34,]\n"
   ]
  },
  {
   "cell_type": "code",
   "execution_count": 7,
   "id": "b78912c1-897f-4057-9ded-2ed88d8e2e02",
   "metadata": {},
   "outputs": [
    {
     "data": {
      "text/plain": [
       "[34, 433, 34, 34, 4, 34, 34, 3, 34]"
      ]
     },
     "execution_count": 7,
     "metadata": {},
     "output_type": "execute_result"
    }
   ],
   "source": [
    "a"
   ]
  },
  {
   "cell_type": "code",
   "execution_count": 8,
   "id": "b38e61b1-0ebf-46f2-97d7-5d98638015d5",
   "metadata": {},
   "outputs": [
    {
     "data": {
      "text/plain": [
       "{34, 43, 434}"
      ]
     },
     "execution_count": 8,
     "metadata": {},
     "output_type": "execute_result"
    }
   ],
   "source": [
    "a={34,434,43,34,43,43,43,34}\n",
    "a"
   ]
  },
  {
   "cell_type": "code",
   "execution_count": 9,
   "id": "2db5f03d-61d2-4f2a-858d-9568e889e531",
   "metadata": {},
   "outputs": [
    {
     "data": {
      "text/plain": [
       "[432, 42, 2424, 424, 24, 234]"
      ]
     },
     "execution_count": 9,
     "metadata": {},
     "output_type": "execute_result"
    }
   ],
   "source": [
    "a=[432,42,2424,424,24,234]\n",
    "a\n"
   ]
  },
  {
   "cell_type": "code",
   "execution_count": 10,
   "id": "fd8a79ba-6b60-443b-8968-2f66347b1c84",
   "metadata": {},
   "outputs": [
    {
     "data": {
      "text/plain": [
       "list"
      ]
     },
     "execution_count": 10,
     "metadata": {},
     "output_type": "execute_result"
    }
   ],
   "source": [
    "type(a)"
   ]
  },
  {
   "cell_type": "code",
   "execution_count": 12,
   "id": "862d85f5-f998-4350-9348-5ae403200b98",
   "metadata": {},
   "outputs": [
    {
     "data": {
      "text/plain": [
       "['data', True, 80.32, 120, 'Hyderabad', 34, 34, 34, 43, 43, False]"
      ]
     },
     "execution_count": 12,
     "metadata": {},
     "output_type": "execute_result"
    }
   ],
   "source": [
    "c=['data',True,80.32,120,'Hyderabad',34,34,34,43,43,False]\n",
    "c"
   ]
  },
  {
   "cell_type": "code",
   "execution_count": 15,
   "id": "93997ebe-9abf-43b0-982c-e1d6275b4d25",
   "metadata": {},
   "outputs": [
    {
     "data": {
      "text/plain": [
       "'data'"
      ]
     },
     "execution_count": 15,
     "metadata": {},
     "output_type": "execute_result"
    }
   ],
   "source": [
    "c[0]"
   ]
  },
  {
   "cell_type": "code",
   "execution_count": 16,
   "id": "e7488ffd-15c9-4a0b-b9cf-cb584bc5dd78",
   "metadata": {},
   "outputs": [
    {
     "data": {
      "text/plain": [
       "34"
      ]
     },
     "execution_count": 16,
     "metadata": {},
     "output_type": "execute_result"
    }
   ],
   "source": [
    "c[6]"
   ]
  },
  {
   "cell_type": "code",
   "execution_count": 17,
   "id": "bc490560-a0b3-4c46-a4a0-e94d275630d8",
   "metadata": {},
   "outputs": [
    {
     "data": {
      "text/plain": [
       "34"
      ]
     },
     "execution_count": 17,
     "metadata": {},
     "output_type": "execute_result"
    }
   ],
   "source": [
    "c[5]"
   ]
  },
  {
   "cell_type": "code",
   "execution_count": 18,
   "id": "fcae7a39-004b-42c3-b36a-4498a922f78f",
   "metadata": {
    "scrolled": true
   },
   "outputs": [
    {
     "ename": "TypeError",
     "evalue": "list indices must be integers or slices, not tuple",
     "output_type": "error",
     "traceback": [
      "\u001b[1;31m---------------------------------------------------------------------------\u001b[0m",
      "\u001b[1;31mTypeError\u001b[0m                                 Traceback (most recent call last)",
      "Cell \u001b[1;32mIn[18], line 1\u001b[0m\n\u001b[1;32m----> 1\u001b[0m c[\u001b[38;5;241m4\u001b[39m,\u001b[38;5;241m5\u001b[39m]\n",
      "\u001b[1;31mTypeError\u001b[0m: list indices must be integers or slices, not tuple"
     ]
    }
   ],
   "source": [
    "c[4,5]"
   ]
  },
  {
   "cell_type": "code",
   "execution_count": 19,
   "id": "4dcec573-062c-4453-be1d-9b230b7f17f6",
   "metadata": {},
   "outputs": [
    {
     "data": {
      "text/plain": [
       "[True, 80.32, 120, 'Hyderabad']"
      ]
     },
     "execution_count": 19,
     "metadata": {},
     "output_type": "execute_result"
    }
   ],
   "source": [
    "c[1:5]"
   ]
  },
  {
   "cell_type": "code",
   "execution_count": 20,
   "id": "869fea00-5699-4c3f-a6af-adf5ba0c9359",
   "metadata": {},
   "outputs": [
    {
     "data": {
      "text/plain": [
       "['data', True, 80.32, 120, 'Hyderabad', 34, 34, 34]"
      ]
     },
     "execution_count": 20,
     "metadata": {},
     "output_type": "execute_result"
    }
   ],
   "source": [
    "c[0:8]"
   ]
  },
  {
   "cell_type": "code",
   "execution_count": 21,
   "id": "3dbf0a51-05c5-46cb-a55f-87b656306c2b",
   "metadata": {},
   "outputs": [
    {
     "data": {
      "text/plain": [
       "['data', True, 80.32, 120, 'Hyderabad', 34, 34, 34, 43, 43]"
      ]
     },
     "execution_count": 21,
     "metadata": {},
     "output_type": "execute_result"
    }
   ],
   "source": [
    "c[0:10]"
   ]
  },
  {
   "cell_type": "code",
   "execution_count": 22,
   "id": "743b4016-82e6-4618-9d35-2527b240bd97",
   "metadata": {},
   "outputs": [
    {
     "data": {
      "text/plain": [
       "['data', True, 80.32, 120, 'Hyderabad', 34, 34, 34, 43, 43, False]"
      ]
     },
     "execution_count": 22,
     "metadata": {},
     "output_type": "execute_result"
    }
   ],
   "source": [
    "c[0:11]"
   ]
  },
  {
   "cell_type": "code",
   "execution_count": 23,
   "id": "5446ce97-dd06-46fc-8c2c-54158a10c29b",
   "metadata": {},
   "outputs": [
    {
     "data": {
      "text/plain": [
       "False"
      ]
     },
     "execution_count": 23,
     "metadata": {},
     "output_type": "execute_result"
    }
   ],
   "source": [
    "c[-1]"
   ]
  },
  {
   "cell_type": "code",
   "execution_count": 25,
   "id": "953c6d3c-6a12-40bb-b44d-4a3e9482b58e",
   "metadata": {},
   "outputs": [
    {
     "data": {
      "text/plain": [
       "80.32"
      ]
     },
     "execution_count": 25,
     "metadata": {},
     "output_type": "execute_result"
    }
   ],
   "source": [
    "c[-9]"
   ]
  },
  {
   "cell_type": "code",
   "execution_count": 28,
   "id": "8432bfef-a988-4e54-83d2-dc72f5b22071",
   "metadata": {},
   "outputs": [
    {
     "data": {
      "text/plain": [
       "'data'"
      ]
     },
     "execution_count": 28,
     "metadata": {},
     "output_type": "execute_result"
    }
   ],
   "source": [
    "c[-11]"
   ]
  },
  {
   "cell_type": "code",
   "execution_count": 29,
   "id": "570343df-4549-4f36-9fe9-76304e0eef45",
   "metadata": {},
   "outputs": [
    {
     "ename": "IndexError",
     "evalue": "list index out of range",
     "output_type": "error",
     "traceback": [
      "\u001b[1;31m---------------------------------------------------------------------------\u001b[0m",
      "\u001b[1;31mIndexError\u001b[0m                                Traceback (most recent call last)",
      "Cell \u001b[1;32mIn[29], line 1\u001b[0m\n\u001b[1;32m----> 1\u001b[0m c[\u001b[38;5;241m11\u001b[39m]\n",
      "\u001b[1;31mIndexError\u001b[0m: list index out of range"
     ]
    }
   ],
   "source": [
    "c[11]"
   ]
  },
  {
   "cell_type": "code",
   "execution_count": 30,
   "id": "f0ca5285-8db4-46aa-be1d-fbc5c217ace3",
   "metadata": {},
   "outputs": [
    {
     "data": {
      "text/plain": [
       "False"
      ]
     },
     "execution_count": 30,
     "metadata": {},
     "output_type": "execute_result"
    }
   ],
   "source": [
    "c[10]"
   ]
  },
  {
   "cell_type": "code",
   "execution_count": 31,
   "id": "a86eb444-162d-4192-95bf-db012f34dc6a",
   "metadata": {},
   "outputs": [
    {
     "data": {
      "text/plain": [
       "True"
      ]
     },
     "execution_count": 31,
     "metadata": {},
     "output_type": "execute_result"
    }
   ],
   "source": [
    "c[-10]"
   ]
  },
  {
   "cell_type": "code",
   "execution_count": 35,
   "id": "eeba8ade-a742-45ca-97bd-069216749e25",
   "metadata": {},
   "outputs": [
    {
     "data": {
      "text/plain": [
       "['lokesh']"
      ]
     },
     "execution_count": 35,
     "metadata": {},
     "output_type": "execute_result"
    }
   ],
   "source": [
    "a=['lokesh']\n",
    "a"
   ]
  },
  {
   "cell_type": "code",
   "execution_count": 39,
   "id": "ade06f08-6467-4a76-bf54-801caae1234e",
   "metadata": {},
   "outputs": [
    {
     "data": {
      "text/plain": [
       "[120, 80.32]"
      ]
     },
     "execution_count": 39,
     "metadata": {},
     "output_type": "execute_result"
    }
   ],
   "source": [
    "c[-8:-10:-1]"
   ]
  },
  {
   "cell_type": "code",
   "execution_count": 40,
   "id": "9a64c66f-2013-4c37-9fbe-c052b2be9674",
   "metadata": {},
   "outputs": [
    {
     "data": {
      "text/plain": [
       "[True, 80.32, 120, 'Hyderabad', 34, 34, 34, 43, 43]"
      ]
     },
     "execution_count": 40,
     "metadata": {},
     "output_type": "execute_result"
    }
   ],
   "source": [
    "c[-10:-1]"
   ]
  },
  {
   "cell_type": "code",
   "execution_count": 46,
   "id": "d7f0d6f4-3f15-4446-8fdd-adb278588f84",
   "metadata": {},
   "outputs": [],
   "source": [
    "# list methods\n",
    "\n"
   ]
  },
  {
   "cell_type": "code",
   "execution_count": null,
   "id": "d271f693-e764-42a9-ba40-2d0a62abd493",
   "metadata": {},
   "outputs": [],
   "source": [
    "append\n",
    "insert\n",
    "extend\n",
    "pop\n",
    "remove\n",
    "clear\n",
    "count"
   ]
  },
  {
   "cell_type": "code",
   "execution_count": 47,
   "id": "c52606cf-1e2f-4699-9638-d736e5963d4b",
   "metadata": {},
   "outputs": [
    {
     "data": {
      "text/plain": [
       "['data', True, 80.32, 120, 'Hyderabad', 34, 34, 34, 43, 43, False, 5453]"
      ]
     },
     "execution_count": 47,
     "metadata": {},
     "output_type": "execute_result"
    }
   ],
   "source": [
    "c.append(5453)\n",
    "c"
   ]
  },
  {
   "cell_type": "code",
   "execution_count": 62,
   "id": "5b6c29d4-8aa8-42f0-ad20-88842303c656",
   "metadata": {},
   "outputs": [
    {
     "data": {
      "text/plain": [
       "['data',\n",
       " 2324,\n",
       " 2324,\n",
       " True,\n",
       " 80.32,\n",
       " 120,\n",
       " 'Hyderabad',\n",
       " 34,\n",
       " 34,\n",
       " 34,\n",
       " 43,\n",
       " 43,\n",
       " False,\n",
       " 5453]"
      ]
     },
     "execution_count": 62,
     "metadata": {},
     "output_type": "execute_result"
    }
   ],
   "source": [
    "c.insert(1,2324)\n",
    "c"
   ]
  },
  {
   "cell_type": "code",
   "execution_count": 59,
   "id": "596fc04c-d70f-4629-ba06-1fc26131eeb9",
   "metadata": {},
   "outputs": [
    {
     "data": {
      "text/plain": [
       "1"
      ]
     },
     "execution_count": 59,
     "metadata": {},
     "output_type": "execute_result"
    }
   ],
   "source": [
    "c.count(1)"
   ]
  },
  {
   "cell_type": "code",
   "execution_count": 16,
   "id": "6f7cdee8-585a-4e12-841d-ec66488fef23",
   "metadata": {},
   "outputs": [
    {
     "data": {
      "text/plain": [
       "(43, 5453, 6456464, 74474, 4654)"
      ]
     },
     "execution_count": 16,
     "metadata": {},
     "output_type": "execute_result"
    }
   ],
   "source": [
    "h=(43,5453,6456464,74474,4654)\n",
    "h"
   ]
  },
  {
   "cell_type": "code",
   "execution_count": 17,
   "id": "f7f388d0-4c41-4f47-8432-fc129ac493a2",
   "metadata": {},
   "outputs": [
    {
     "data": {
      "text/plain": [
       "1"
      ]
     },
     "execution_count": 17,
     "metadata": {},
     "output_type": "execute_result"
    }
   ],
   "source": [
    "h.count(5453)"
   ]
  },
  {
   "cell_type": "code",
   "execution_count": 18,
   "id": "4796fa6a-162c-45e7-9eeb-683aa1ce345c",
   "metadata": {},
   "outputs": [
    {
     "data": {
      "text/plain": [
       "0"
      ]
     },
     "execution_count": 18,
     "metadata": {},
     "output_type": "execute_result"
    }
   ],
   "source": [
    "h.index(43)"
   ]
  },
  {
   "cell_type": "code",
   "execution_count": null,
   "id": "7996e46b-9040-43ef-94f3-6ccead6db200",
   "metadata": {},
   "outputs": [],
   "source": []
  },
  {
   "cell_type": "code",
   "execution_count": null,
   "id": "b33fef6f-4cdb-4101-adf9-d31918f26889",
   "metadata": {},
   "outputs": [],
   "source": []
  },
  {
   "cell_type": "code",
   "execution_count": null,
   "id": "81d73e27-47cb-4c87-83bb-9f0aa6ad3c2a",
   "metadata": {},
   "outputs": [],
   "source": []
  }
 ],
 "metadata": {
  "kernelspec": {
   "display_name": "Python 3 (ipykernel)",
   "language": "python",
   "name": "python3"
  },
  "language_info": {
   "codemirror_mode": {
    "name": "ipython",
    "version": 3
   },
   "file_extension": ".py",
   "mimetype": "text/x-python",
   "name": "python",
   "nbconvert_exporter": "python",
   "pygments_lexer": "ipython3",
   "version": "3.12.7"
  }
 },
 "nbformat": 4,
 "nbformat_minor": 5
}
